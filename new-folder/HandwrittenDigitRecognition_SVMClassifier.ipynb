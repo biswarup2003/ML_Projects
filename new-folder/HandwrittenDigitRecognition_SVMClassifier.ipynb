import numpy as np
print("import done")

